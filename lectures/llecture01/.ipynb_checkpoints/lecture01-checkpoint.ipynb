{
 "cells": [
  {
   "cell_type": "code",
   "execution_count": 30,
   "id": "d66f8b94",
   "metadata": {},
   "outputs": [],
   "source": [
    "import seaborn as sns\n",
    "import numpy as np"
   ]
  },
  {
   "cell_type": "code",
   "execution_count": 31,
   "id": "f16c79a8",
   "metadata": {},
   "outputs": [],
   "source": [
    "x = np.random.randint(10)\n",
    "x = np.array([1,3,5,7,3,2])"
   ]
  },
  {
   "cell_type": "code",
   "execution_count": 3,
   "id": "42747ebe",
   "metadata": {
    "scrolled": true
   },
   "outputs": [
    {
     "data": {
      "text/plain": [
       "<seaborn.axisgrid.FacetGrid at 0x25a76ba4670>"
      ]
     },
     "execution_count": 3,
     "metadata": {},
     "output_type": "execute_result"
    },
    {
     "data": {
      "image/png": "[encoded data removed]",
      "text/plain": [
       "<Figure size 500x500 with 1 Axes>"
      ]
     },
     "metadata": {},
     "output_type": "display_data"
    }
   ],
   "source": [
    "sns.displot(x, bins =10)"
   ]
  },
  {
   "cell_type": "code",
   "execution_count": 6,
   "id": "a721a646",
   "metadata": {},
   "outputs": [],
   "source": [
    "?pow"
   ]
  },
  {
   "cell_type": "code",
   "execution_count": null,
   "id": "e45ad2b4",
   "metadata": {},
   "outputs": [],
   "source": [
    "pow"
   ]
  },
  {
   "cell_type": "code",
   "execution_count": 8,
   "id": "8aa53426",
   "metadata": {},
   "outputs": [
    {
     "ename": "ZeroDivisionError",
     "evalue": "division by zero",
     "output_type": "error",
     "traceback": [
      "\u001b[1;31m---------------------------------------------------------------------------\u001b[0m",
      "\u001b[1;31mZeroDivisionError\u001b[0m                         Traceback (most recent call last)",
      "\u001b[1;32m~\\AppData\\Local\\Temp\\ipykernel_2132\\932299756.py\u001b[0m in \u001b[0;36m<module>\u001b[1;34m\u001b[0m\n\u001b[0;32m      1\u001b[0m \u001b[0ma\u001b[0m \u001b[1;33m=\u001b[0m \u001b[1;36m12\u001b[0m\u001b[1;33m\u001b[0m\u001b[1;33m\u001b[0m\u001b[0m\n\u001b[1;32m----> 2\u001b[1;33m \u001b[1;36m3\u001b[0m \u001b[1;33m/\u001b[0m \u001b[1;36m0\u001b[0m\u001b[1;33m\u001b[0m\u001b[1;33m\u001b[0m\u001b[0m\n\u001b[0m\u001b[0;32m      3\u001b[0m \u001b[0mb\u001b[0m \u001b[1;33m=\u001b[0m \u001b[1;36m3\u001b[0m\u001b[1;33m\u001b[0m\u001b[1;33m\u001b[0m\u001b[0m\n\u001b[0;32m      4\u001b[0m \u001b[0ma\u001b[0m \u001b[1;33m+\u001b[0m \u001b[0mb\u001b[0m\u001b[1;33m\u001b[0m\u001b[1;33m\u001b[0m\u001b[0m\n",
      "\u001b[1;31mZeroDivisionError\u001b[0m: division by zero"
     ]
    }
   ],
   "source": [
    "a = 12\n",
    "3 / 0\n",
    "b = 3\n",
    "a + b"
   ]
  },
  {
   "cell_type": "markdown",
   "id": "4d124c35",
   "metadata": {},
   "source": [
    "#  Headening"
   ]
  },
  {
   "cell_type": "markdown",
   "id": "8e7b02b5",
   "metadata": {},
   "source": [
    "- msmmsdf    \n",
    "_dsfsd_\n",
    "* fsdfsd__"
   ]
  },
  {
   "cell_type": "markdown",
   "id": "7468c665",
   "metadata": {},
   "source": [
    "<b>fsdfsdf</b>"
   ]
  },
  {
   "cell_type": "markdown",
   "id": "09c24231",
   "metadata": {},
   "source": [
    "<table>\n",
    "    <tr>\n",
    "        <td> Первый столбик</td>\n",
    "        <tb> Второй столбик</tb>\n",
    "    </tr>\n",
    "    <tr>\n",
    "        <tb>Первый столбик </td>\n",
    "        <tb>Второй столбик </td>\n",
    "    </tr>\n",
    "</table>    "
   ]
  },
  {
   "cell_type": "markdown",
   "id": "8fb8c84b",
   "metadata": {},
   "source": [
    "Словарь"
   ]
  },
  {
   "cell_type": "code",
   "execution_count": 4,
   "id": "3a7f9b1d",
   "metadata": {},
   "outputs": [],
   "source": [
    "client_data = {\n",
    "    'name' : 'Vasia',\n",
    "    'surname' : 'Pupkin',\n",
    "    'age' : 32\n",
    "}"
   ]
  },
  {
   "cell_type": "code",
   "execution_count": 5,
   "id": "c143d16d",
   "metadata": {},
   "outputs": [
    {
     "data": {
      "text/plain": [
       "{'name': 'Vasia', 'surname': 'Pupkin', 'age': 32}"
      ]
     },
     "execution_count": 5,
     "metadata": {},
     "output_type": "execute_result"
    }
   ],
   "source": [
    "client_data"
   ]
  },
  {
   "cell_type": "code",
   "execution_count": 6,
   "id": "9584fcc6",
   "metadata": {},
   "outputs": [
    {
     "data": {
      "text/plain": [
       "'Vasia'"
      ]
     },
     "execution_count": 6,
     "metadata": {},
     "output_type": "execute_result"
    }
   ],
   "source": [
    "client_data['name']"
   ]
  },
  {
   "cell_type": "code",
   "execution_count": 7,
   "id": "80f6a3a5",
   "metadata": {},
   "outputs": [
    {
     "data": {
      "text/plain": [
       "dict_keys(['name', 'surname', 'age'])"
      ]
     },
     "execution_count": 7,
     "metadata": {},
     "output_type": "execute_result"
    }
   ],
   "source": [
    "client_data.keys()"
   ]
  },
  {
   "cell_type": "code",
   "execution_count": 9,
   "id": "db54e095",
   "metadata": {},
   "outputs": [
    {
     "data": {
      "text/plain": [
       "dict_values(['Vasia', 'Pupkin', 32])"
      ]
     },
     "execution_count": 9,
     "metadata": {},
     "output_type": "execute_result"
    }
   ],
   "source": [
    "client_data.values()"
   ]
  },
  {
   "cell_type": "code",
   "execution_count": 10,
   "id": "e8097de5",
   "metadata": {},
   "outputs": [
    {
     "data": {
      "text/plain": [
       "dict_items([('name', 'Vasia'), ('surname', 'Pupkin'), ('age', 32)])"
      ]
     },
     "execution_count": 10,
     "metadata": {},
     "output_type": "execute_result"
    }
   ],
   "source": [
    "client_data.items()"
   ]
  },
  {
   "cell_type": "code",
   "execution_count": 11,
   "id": "65c3b5cf",
   "metadata": {},
   "outputs": [
    {
     "name": "stdout",
     "output_type": "stream",
     "text": [
      "name : Vasia\n",
      "surname : Pupkin\n",
      "age : 32\n"
     ]
    }
   ],
   "source": [
    "for k,v in client_data.items():\n",
    "    print(f'{k} : {v}')"
   ]
  },
  {
   "cell_type": "markdown",
   "id": "f5a8b6de",
   "metadata": {},
   "source": [
    "добавить значение "
   ]
  },
  {
   "cell_type": "code",
   "execution_count": 12,
   "id": "dbc42f74",
   "metadata": {},
   "outputs": [],
   "source": [
    "client_data['height'] = 180"
   ]
  },
  {
   "cell_type": "code",
   "execution_count": 13,
   "id": "1faada83",
   "metadata": {},
   "outputs": [
    {
     "data": {
      "text/plain": [
       "{'name': 'Vasia', 'surname': 'Pupkin', 'age': 32, 'height': 180}"
      ]
     },
     "execution_count": 13,
     "metadata": {},
     "output_type": "execute_result"
    }
   ],
   "source": [
    "client_data"
   ]
  },
  {
   "cell_type": "code",
   "execution_count": 14,
   "id": "34d9aa0d",
   "metadata": {},
   "outputs": [],
   "source": [
    "client_data['age'] = 16"
   ]
  },
  {
   "cell_type": "code",
   "execution_count": 15,
   "id": "4b9d5dda",
   "metadata": {},
   "outputs": [
    {
     "data": {
      "text/plain": [
       "{'name': 'Vasia', 'surname': 'Pupkin', 'age': 16, 'height': 180}"
      ]
     },
     "execution_count": 15,
     "metadata": {},
     "output_type": "execute_result"
    }
   ],
   "source": [
    "client_data"
   ]
  },
  {
   "cell_type": "code",
   "execution_count": 16,
   "id": "8704dac2",
   "metadata": {},
   "outputs": [
    {
     "data": {
      "text/plain": [
       "16"
      ]
     },
     "execution_count": 16,
     "metadata": {},
     "output_type": "execute_result"
    }
   ],
   "source": [
    "client_data.setdefault('age', 14)"
   ]
  },
  {
   "cell_type": "code",
   "execution_count": 17,
   "id": "446d31a9",
   "metadata": {},
   "outputs": [
    {
     "data": {
      "text/plain": [
       "{'name': 'Vasia', 'surname': 'Pupkin', 'age': 16, 'height': 180}"
      ]
     },
     "execution_count": 17,
     "metadata": {},
     "output_type": "execute_result"
    }
   ],
   "source": [
    "client_data"
   ]
  },
  {
   "cell_type": "code",
   "execution_count": 19,
   "id": "86d64f77",
   "metadata": {},
   "outputs": [],
   "source": [
    "client_data.update({\n",
    "    'age' : 14\n",
    "})"
   ]
  },
  {
   "cell_type": "code",
   "execution_count": 20,
   "id": "f8a1c1e5",
   "metadata": {},
   "outputs": [
    {
     "data": {
      "text/plain": [
       "{'name': 'Vasia', 'surname': 'Pupkin', 'age': 14, 'height': 180}"
      ]
     },
     "execution_count": 20,
     "metadata": {},
     "output_type": "execute_result"
    }
   ],
   "source": [
    "client_data"
   ]
  },
  {
   "cell_type": "code",
   "execution_count": 24,
   "id": "94fe5b8c",
   "metadata": {},
   "outputs": [],
   "source": [
    "client_data.update({\n",
    "    'age' :  15,\n",
    "    'body' : {\n",
    "        'weight' : 80,\n",
    "        'height' : 186\n",
    "    }\n",
    "})"
   ]
  },
  {
   "cell_type": "code",
   "execution_count": 25,
   "id": "f7b51204",
   "metadata": {},
   "outputs": [
    {
     "data": {
      "text/plain": [
       "{'name': 'Vasia',\n",
       " 'surname': 'Pupkin',\n",
       " 'age': 15,\n",
       " 'height': 180,\n",
       " 'body': {'weight': 80, 'height': 186}}"
      ]
     },
     "execution_count": 25,
     "metadata": {},
     "output_type": "execute_result"
    }
   ],
   "source": [
    "client_data"
   ]
  },
  {
   "cell_type": "code",
   "execution_count": 27,
   "id": "eb55adce",
   "metadata": {},
   "outputs": [
    {
     "data": {
      "text/plain": [
       "186"
      ]
     },
     "execution_count": 27,
     "metadata": {},
     "output_type": "execute_result"
    }
   ],
   "source": [
    "client_data['body']['height']"
   ]
  },
  {
   "cell_type": "markdown",
   "id": "000a61d4",
   "metadata": {},
   "source": [
    "## Random"
   ]
  },
  {
   "cell_type": "code",
   "execution_count": 33,
   "id": "6ade65db",
   "metadata": {},
   "outputs": [
    {
     "data": {
      "text/plain": [
       "1"
      ]
     },
     "execution_count": 33,
     "metadata": {},
     "output_type": "execute_result"
    }
   ],
   "source": [
    "np.random.randint(0,10)"
   ]
  },
  {
   "cell_type": "code",
   "execution_count": 37,
   "id": "b2894ed9",
   "metadata": {},
   "outputs": [
    {
     "data": {
      "text/plain": [
       "5"
      ]
     },
     "execution_count": 37,
     "metadata": {},
     "output_type": "execute_result"
    }
   ],
   "source": [
    "np.random.seed(9)\n",
    "np.random.randint(0,10)"
   ]
  },
  {
   "cell_type": "code",
   "execution_count": 39,
   "id": "3452a986",
   "metadata": {},
   "outputs": [
    {
     "data": {
      "text/plain": [
       "0.13382952895927658"
      ]
     },
     "execution_count": 39,
     "metadata": {},
     "output_type": "execute_result"
    }
   ],
   "source": [
    "np.random.random()"
   ]
  },
  {
   "cell_type": "markdown",
   "id": "b229e2a3",
   "metadata": {},
   "source": [
    "random.uniform(A, B) - возвращает случайное число с плавающей точкой в диапазоне от A до B."
   ]
  },
  {
   "cell_type": "code",
   "execution_count": 46,
   "id": "b7939736",
   "metadata": {},
   "outputs": [
    {
     "data": {
      "text/plain": [
       "4.185081805104525"
      ]
     },
     "execution_count": 46,
     "metadata": {},
     "output_type": "execute_result"
    }
   ],
   "source": [
    "np.random.uniform(0,10)"
   ]
  },
  {
   "cell_type": "markdown",
   "id": "1575aec0",
   "metadata": {},
   "source": [
    "random.sample(data, k) - возвращает список длиной k из последовательности data."
   ]
  },
  {
   "cell_type": "code",
   "execution_count": 49,
   "id": "d162f422",
   "metadata": {},
   "outputs": [
    {
     "name": "stdout",
     "output_type": "stream",
     "text": [
      "Object `np.random.sample()` not found.\n"
     ]
    }
   ],
   "source": [
    "a = ['black', 'red', 'yellow', 'green']\n",
    "?np.random.sample()"
   ]
  },
  {
   "cell_type": "code",
   "execution_count": 51,
   "id": "47483edc",
   "metadata": {},
   "outputs": [
    {
     "data": {
      "text/plain": [
       "['green', 'red', 'yellow', 'black']"
      ]
     },
     "execution_count": 51,
     "metadata": {},
     "output_type": "execute_result"
    }
   ],
   "source": [
    "np.random.shuffle(a)\n",
    "a"
   ]
  },
  {
   "cell_type": "markdown",
   "id": "b22d14cc",
   "metadata": {},
   "source": [
    "random.choice(data) - возвращает случайный элемент из последовательности."
   ]
  },
  {
   "cell_type": "code",
   "execution_count": 55,
   "id": "6c055c63",
   "metadata": {},
   "outputs": [
    {
     "data": {
      "text/plain": [
       "'green'"
      ]
     },
     "execution_count": 55,
     "metadata": {},
     "output_type": "execute_result"
    }
   ],
   "source": [
    "np.random.choice(a)"
   ]
  },
  {
   "cell_type": "markdown",
   "id": "99e7ceef",
   "metadata": {},
   "source": [
    "#### Функции\n",
    "Аргумент функции — значение, которое передается в функцию при её вызове."
   ]
  },
  {
   "cell_type": "code",
   "execution_count": 67,
   "id": "06e003a0",
   "metadata": {},
   "outputs": [],
   "source": [
    "def calc_sum(b = 8, a =3):\n",
    "    print(f'a is {a}')\n",
    "    print(f'b is {b}')\n",
    "    result = a + b\n",
    "    return result"
   ]
  },
  {
   "cell_type": "code",
   "execution_count": 68,
   "id": "ce3ca593",
   "metadata": {},
   "outputs": [
    {
     "name": "stdout",
     "output_type": "stream",
     "text": [
      "a is 3\n",
      "b is 8\n"
     ]
    },
    {
     "data": {
      "text/plain": [
       "11"
      ]
     },
     "execution_count": 68,
     "metadata": {},
     "output_type": "execute_result"
    }
   ],
   "source": [
    "calc_sum()"
   ]
  },
  {
   "cell_type": "markdown",
   "id": "969c2c46",
   "metadata": {},
   "source": [
    "Аргументы по умолчанию"
   ]
  },
  {
   "cell_type": "code",
   "execution_count": 73,
   "id": "b037bc19",
   "metadata": {},
   "outputs": [],
   "source": [
    "def say_hi(greeting = 'Hello', name = 'World'):\n",
    "    return f'{greeting}, {name}'"
   ]
  },
  {
   "cell_type": "code",
   "execution_count": 74,
   "id": "cea3d529",
   "metadata": {},
   "outputs": [
    {
     "data": {
      "text/plain": [
       "'Hello, World'"
      ]
     },
     "execution_count": 74,
     "metadata": {},
     "output_type": "execute_result"
    }
   ],
   "source": [
    "say_hi()"
   ]
  },
  {
   "cell_type": "code",
   "execution_count": 75,
   "id": "7beb35db",
   "metadata": {},
   "outputs": [
    {
     "data": {
      "text/plain": [
       "'Hey, USSR'"
      ]
     },
     "execution_count": 75,
     "metadata": {},
     "output_type": "execute_result"
    }
   ],
   "source": [
    "say_hi(greeting= 'Hey', name = 'USSR')"
   ]
  },
  {
   "cell_type": "markdown",
   "id": "eb917563",
   "metadata": {},
   "source": [
    "### Аргумент *args\n",
    "*args — это сокращение от «arguments» (аргументы).\n"
   ]
  },
  {
   "cell_type": "code",
   "execution_count": 83,
   "id": "9dac2b42",
   "metadata": {},
   "outputs": [],
   "source": [
    "def calc(a, b, c):\n",
    "    return a + b + c"
   ]
  },
  {
   "cell_type": "code",
   "execution_count": 84,
   "id": "9dfc2a5d",
   "metadata": {},
   "outputs": [],
   "source": [
    "def calc_sum(*args):\n",
    "    result = sum(args)\n",
    "    return sum"
   ]
  },
  {
   "cell_type": "code",
   "execution_count": 86,
   "id": "f9cc474c",
   "metadata": {},
   "outputs": [
    {
     "data": {
      "text/plain": [
       "<function sum(iterable, /, start=0)>"
      ]
     },
     "execution_count": 86,
     "metadata": {},
     "output_type": "execute_result"
    }
   ],
   "source": [
    "calc_sum(2, 3, 4)"
   ]
  },
  {
   "cell_type": "code",
   "execution_count": 87,
   "id": "d9c8bccd",
   "metadata": {},
   "outputs": [
    {
     "data": {
      "text/plain": [
       "<function sum(iterable, /, start=0)>"
      ]
     },
     "execution_count": 87,
     "metadata": {},
     "output_type": "execute_result"
    }
   ],
   "source": [
    "calc_sum(1)"
   ]
  },
  {
   "cell_type": "code",
   "execution_count": 92,
   "id": "dadf4022",
   "metadata": {},
   "outputs": [],
   "source": [
    "def calc_su(*args):\n",
    "    print(args)\n",
    "    print(type(args))\n",
    "    result = sum(args)\n",
    "    return result"
   ]
  },
  {
   "cell_type": "code",
   "execution_count": 93,
   "id": "2fe87409",
   "metadata": {},
   "outputs": [
    {
     "name": "stdout",
     "output_type": "stream",
     "text": [
      "(1, 2, 3)\n",
      "<class 'tuple'>\n"
     ]
    },
    {
     "data": {
      "text/plain": [
       "6"
      ]
     },
     "execution_count": 93,
     "metadata": {},
     "output_type": "execute_result"
    }
   ],
   "source": [
    "calc_su(1, 2, 3)"
   ]
  },
  {
   "cell_type": "code",
   "execution_count": 94,
   "id": "463a5c83",
   "metadata": {},
   "outputs": [],
   "source": [
    "def printer(*args):\n",
    "    print(args)\n",
    "    print(type(args))\n",
    "    print()\n",
    "    for i in args:\n",
    "        print(i)"
   ]
  },
  {
   "cell_type": "code",
   "execution_count": 95,
   "id": "ec07c9bb",
   "metadata": {},
   "outputs": [
    {
     "name": "stdout",
     "output_type": "stream",
     "text": [
      "(1, 'text', {'key': 'value'})\n",
      "<class 'tuple'>\n",
      "\n",
      "1\n",
      "text\n",
      "{'key': 'value'}\n"
     ]
    }
   ],
   "source": [
    "printer(1, 'text', {'key' : 'value'})"
   ]
  },
  {
   "cell_type": "code",
   "execution_count": 97,
   "id": "20f437ec",
   "metadata": {},
   "outputs": [
    {
     "name": "stdout",
     "output_type": "stream",
     "text": [
      "(['Join', 'Nick', 'Bill'],)\n",
      "<class 'tuple'>\n",
      "\n",
      "['Join', 'Nick', 'Bill']\n"
     ]
    }
   ],
   "source": [
    "names = ['Join', 'Nick', 'Bill']\n",
    "printer(names)"
   ]
  },
  {
   "cell_type": "code",
   "execution_count": 98,
   "id": "ea56ee5a",
   "metadata": {},
   "outputs": [
    {
     "name": "stdout",
     "output_type": "stream",
     "text": [
      "('Join', 'Nick', 'Bill')\n",
      "<class 'tuple'>\n",
      "\n",
      "Join\n",
      "Nick\n",
      "Bill\n"
     ]
    }
   ],
   "source": [
    "printer(*names)"
   ]
  },
  {
   "cell_type": "markdown",
   "id": "61e14a9f",
   "metadata": {},
   "source": [
    "### Аргумент **kwargs\n",
    "**kwargs — сокращение от «keyword arguments» (именованные аргументы).\t\n"
   ]
  },
  {
   "cell_type": "code",
   "execution_count": 99,
   "id": "3b0418ea",
   "metadata": {},
   "outputs": [],
   "source": [
    "def printer(**kwargs):\n",
    "    print(kwargs)\n",
    "    print(type(kwargs))\n",
    "    print()\n",
    "    for key,value in kwargs.items():\n",
    "        print(f'{key} - {value}')"
   ]
  },
  {
   "cell_type": "code",
   "execution_count": 100,
   "id": "7510534a",
   "metadata": {},
   "outputs": [
    {
     "name": "stdout",
     "output_type": "stream",
     "text": [
      "{'a': 10, 'b': '20'}\n",
      "<class 'dict'>\n",
      "\n",
      "a - 10\n",
      "b - 20\n"
     ]
    }
   ],
   "source": [
    "printer(a=10, b='20')"
   ]
  },
  {
   "cell_type": "code",
   "execution_count": 101,
   "id": "cb2db863",
   "metadata": {},
   "outputs": [],
   "source": [
    "def say_hi(**kwargs):\n",
    "    greeting = kwargs.get('greeting', 'Hello')\n",
    "    name = kwargs.get('name', 'World')\n",
    "    return f'{greeting}, {name}'"
   ]
  },
  {
   "cell_type": "code",
   "execution_count": 102,
   "id": "94d28fee",
   "metadata": {},
   "outputs": [
    {
     "data": {
      "text/plain": [
       "'Hello, World'"
      ]
     },
     "execution_count": 102,
     "metadata": {},
     "output_type": "execute_result"
    }
   ],
   "source": [
    "say_hi()"
   ]
  },
  {
   "cell_type": "code",
   "execution_count": 103,
   "id": "0c58af3a",
   "metadata": {},
   "outputs": [
    {
     "data": {
      "text/plain": [
       "'Hey, John'"
      ]
     },
     "execution_count": 103,
     "metadata": {},
     "output_type": "execute_result"
    }
   ],
   "source": [
    "say_hi(greeting= 'Hey' , name='John')"
   ]
  },
  {
   "cell_type": "code",
   "execution_count": 107,
   "id": "91c749d0",
   "metadata": {},
   "outputs": [
    {
     "data": {
      "text/plain": [
       "'Hey, John'"
      ]
     },
     "execution_count": 107,
     "metadata": {},
     "output_type": "execute_result"
    }
   ],
   "source": [
    "data = {'greeting': 'Hey',\n",
    "       'name' : 'John',\n",
    "       'extra' : 5}\n",
    "say_hi(**data)"
   ]
  },
  {
   "cell_type": "markdown",
   "id": "43fef0e0",
   "metadata": {},
   "source": [
    " Аннотирование типов"
   ]
  },
  {
   "cell_type": "code",
   "execution_count": 108,
   "id": "aecd0df3",
   "metadata": {},
   "outputs": [],
   "source": [
    "def calc_sum(a: int, b: int):\n",
    "    return a + b"
   ]
  },
  {
   "cell_type": "code",
   "execution_count": 109,
   "id": "2dd85258",
   "metadata": {},
   "outputs": [
    {
     "data": {
      "text/plain": [
       "3"
      ]
     },
     "execution_count": 109,
     "metadata": {},
     "output_type": "execute_result"
    }
   ],
   "source": [
    "calc_sum(1, 2)"
   ]
  },
  {
   "cell_type": "code",
   "execution_count": null,
   "id": "0f395b17",
   "metadata": {},
   "outputs": [],
   "source": []
  },
  {
   "cell_type": "code",
   "execution_count": null,
   "id": "d7dffc4e",
   "metadata": {},
   "outputs": [],
   "source": []
  }
 ],
 "metadata": {
  "kernelspec": {
   "display_name": "Python 3 (ipykernel)",
   "language": "python",
   "name": "python3"
  },
  "language_info": {
   "codemirror_mode": {
    "name": "ipython",
    "version": 3
   },
   "file_extension": ".py",
   "mimetype": "text/x-python",
   "name": "python",
   "nbconvert_exporter": "python",
   "pygments_lexer": "ipython3",
   "version": "3.9.13"
  }
 },
 "nbformat": 4,
 "nbformat_minor": 5
}
