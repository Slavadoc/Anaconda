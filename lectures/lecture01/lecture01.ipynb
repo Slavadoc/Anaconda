{
 "cells": [
  {
   "cell_type": "markdown",
   "id": "bb540e65",
   "metadata": {},
   "source": [
    "# **жирный**\n",
    "__курсив__\n",
    "*курсив*\n",
    "- список\n",
    "- список   \n",
    "Latex \n",
    "$$\\frac{1}{n} \\ sum{x_i}$$\n",
    "<b>жирный</b>\n",
    "<i>курсив</i>\n",
    "<br>текст с новой строки</br>\n",
    "<table>\n",
    "    <tr>\n",
    "        <td>второй столбик</td> \n",
    "        <td>первый столбик</td>\n",
    "    </tr>\n",
    "    <tr>\n",
    "        <td>второй столбик</td> \n",
    "        <td>первый столбик<td>\n",
    "    </tr>\n",
    "</table>"
   ]
  },
  {
   "cell_type": "code",
   "execution_count": 33,
   "id": "d66f8b94",
   "metadata": {},
   "outputs": [],
   "source": [
    "import seaborn as sns\n",
    "import numpy as np"
   ]
  },
  {
   "cell_type": "code",
   "execution_count": 2,
   "id": "f16c79a8",
   "metadata": {},
   "outputs": [],
   "source": [
    "x = np.random.randint(10)\n",
    "x = np.array([1,3,5,7,3,2])"
   ]
  },
  {
   "cell_type": "code",
   "execution_count": 3,
   "id": "42747ebe",
   "metadata": {
    "scrolled": true
   },
   "outputs": [
    {
     "data": {
      "text/plain": [
       "<seaborn.axisgrid.FacetGrid at 0x1d3ab2e4f70>"
      ]
     },
     "execution_count": 3,
     "metadata": {},
     "output_type": "execute_result"
    },
    {
     "data": {
      "image/png": "[encoded data removed]",
      "text/plain": [
       "<Figure size 500x500 with 1 Axes>"
      ]
     },
     "metadata": {},
     "output_type": "display_data"
    }
   ],
   "source": [
    "sns.displot(x, bins =10)"
   ]
  },
  {
   "cell_type": "code",
   "execution_count": 3,
   "id": "a721a646",
   "metadata": {},
   "outputs": [],
   "source": [
    "?pow"
   ]
  },
  {
   "cell_type": "code",
   "execution_count": 2,
   "id": "9ab2bb29",
   "metadata": {},
   "outputs": [
    {
     "data": {
      "text/plain": [
       "<function pow(base, exp, mod=None)>"
      ]
     },
     "execution_count": 2,
     "metadata": {},
     "output_type": "execute_result"
    }
   ],
   "source": [
    "pow"
   ]
  },
  {
   "cell_type": "code",
   "execution_count": 6,
   "id": "a59eb9a9",
   "metadata": {},
   "outputs": [
    {
     "ename": "SyntaxError",
     "evalue": "invalid syntax (1175386574.py, line 1)",
     "output_type": "error",
     "traceback": [
      "\u001b[1;36m  File \u001b[1;32m\"C:\\Users\\User\\AppData\\Local\\Temp\\ipykernel_11176\\1175386574.py\"\u001b[1;36m, line \u001b[1;32m1\u001b[0m\n\u001b[1;33m    num a = 12\u001b[0m\n\u001b[1;37m        ^\u001b[0m\n\u001b[1;31mSyntaxError\u001b[0m\u001b[1;31m:\u001b[0m invalid syntax\n"
     ]
    }
   ],
   "source": [
    "num a = 12\n",
    "num 3 / 0\n",
    "b = 3\n",
    "a + b"
   ]
  },
  {
   "cell_type": "markdown",
   "id": "82bd71a4",
   "metadata": {},
   "source": [
    "# Заголовок\n",
    "#  Headening\n",
    "<b>fsdfsdf</b>\n",
    "\n",
    "- msmmsdf    \n",
    "_dsfsd_\n",
    "* fsdfsd__\n",
    "<table>\n",
    "    <tr>\n",
    "        <td> Первый столбик</td>\n",
    "        <td> Второй столбик</td>\n",
    "    </tr>\n",
    "    <tr>\n",
    "        <td>Первый столбик </td>\n",
    "        <td>Второй столбик </td>\n",
    "    </tr>\n",
    "</table>    "
   ]
  },
  {
   "cell_type": "markdown",
   "id": "6ec24c4e",
   "metadata": {},
   "source": [
    "### Словарь"
   ]
  },
  {
   "cell_type": "code",
   "execution_count": 4,
   "id": "eed75da0",
   "metadata": {},
   "outputs": [],
   "source": [
    "client_data = {\n",
    "    'name' : 'Vasia',\n",
    "    'surname' : 'Pupkin',\n",
    "    'age' : 32\n",
    "}"
   ]
  },
  {
   "cell_type": "code",
   "execution_count": 5,
   "id": "926a234b",
   "metadata": {},
   "outputs": [
    {
     "data": {
      "text/plain": [
       "'Vasia'"
      ]
     },
     "execution_count": 5,
     "metadata": {},
     "output_type": "execute_result"
    }
   ],
   "source": [
    "client_data['name']"
   ]
  },
  {
   "cell_type": "code",
   "execution_count": 6,
   "id": "0cf4e31f",
   "metadata": {
    "scrolled": true
   },
   "outputs": [
    {
     "ename": "KeyError",
     "evalue": "'key'",
     "output_type": "error",
     "traceback": [
      "\u001b[1;31m---------------------------------------------------------------------------\u001b[0m",
      "\u001b[1;31mKeyError\u001b[0m                                  Traceback (most recent call last)",
      "\u001b[1;32m~\\AppData\\Local\\Temp\\ipykernel_8020\\4110030475.py\u001b[0m in \u001b[0;36m<module>\u001b[1;34m\u001b[0m\n\u001b[1;32m----> 1\u001b[1;33m \u001b[0mclient_data\u001b[0m\u001b[1;33m[\u001b[0m\u001b[1;34m'key'\u001b[0m\u001b[1;33m]\u001b[0m\u001b[1;33m\u001b[0m\u001b[1;33m\u001b[0m\u001b[0m\n\u001b[0m",
      "\u001b[1;31mKeyError\u001b[0m: 'key'"
     ]
    }
   ],
   "source": [
    "client_data['key']"
   ]
  },
  {
   "cell_type": "code",
   "execution_count": 12,
   "id": "72799bc1",
   "metadata": {},
   "outputs": [],
   "source": [
    "client_data.get('key')# get безопасный спосоп извлечения ключенй"
   ]
  },
  {
   "cell_type": "code",
   "execution_count": 13,
   "id": "8b0583c2",
   "metadata": {},
   "outputs": [
    {
     "data": {
      "text/plain": [
       "dict_keys(['name', 'surname', 'age'])"
      ]
     },
     "execution_count": 13,
     "metadata": {},
     "output_type": "execute_result"
    }
   ],
   "source": [
    "client_data.keys()"
   ]
  },
  {
   "cell_type": "code",
   "execution_count": 14,
   "id": "ad6d7c3b",
   "metadata": {},
   "outputs": [
    {
     "data": {
      "text/plain": [
       "dict_keys(['name', 'surname', 'age'])"
      ]
     },
     "execution_count": 14,
     "metadata": {},
     "output_type": "execute_result"
    }
   ],
   "source": [
    "client_data.keys()"
   ]
  },
  {
   "cell_type": "code",
   "execution_count": 15,
   "id": "f2ce83d2",
   "metadata": {},
   "outputs": [
    {
     "data": {
      "text/plain": [
       "dict_values(['Vasia', 'Pupkin', 32])"
      ]
     },
     "execution_count": 15,
     "metadata": {},
     "output_type": "execute_result"
    }
   ],
   "source": [
    "client_data.values()"
   ]
  },
  {
   "cell_type": "code",
   "execution_count": 16,
   "id": "ce4fc4c6",
   "metadata": {},
   "outputs": [
    {
     "data": {
      "text/plain": [
       "dict_items([('name', 'Vasia'), ('surname', 'Pupkin'), ('age', 32)])"
      ]
     },
     "execution_count": 16,
     "metadata": {},
     "output_type": "execute_result"
    }
   ],
   "source": [
    "client_data.items()"
   ]
  },
  {
   "cell_type": "code",
   "execution_count": 17,
   "id": "5c16324a",
   "metadata": {},
   "outputs": [
    {
     "name": "stdout",
     "output_type": "stream",
     "text": [
      "name : Vasia\n",
      "surname : Pupkin\n",
      "age : 32\n"
     ]
    }
   ],
   "source": [
    "for k,v in client_data.items():\n",
    "    print(f'{k} : {v}')"
   ]
  },
  {
   "cell_type": "markdown",
   "id": "a98214ae",
   "metadata": {},
   "source": [
    "Добавить значение "
   ]
  },
  {
   "cell_type": "code",
   "execution_count": 18,
   "id": "781e256a",
   "metadata": {},
   "outputs": [],
   "source": [
    "client_data['height'] = 180"
   ]
  },
  {
   "cell_type": "code",
   "execution_count": 19,
   "id": "a7ab1ad9",
   "metadata": {},
   "outputs": [
    {
     "data": {
      "text/plain": [
       "{'name': 'Vasia', 'surname': 'Pupkin', 'age': 32, 'height': 180}"
      ]
     },
     "execution_count": 19,
     "metadata": {},
     "output_type": "execute_result"
    }
   ],
   "source": [
    "client_data"
   ]
  },
  {
   "cell_type": "code",
   "execution_count": 20,
   "id": "3f1d44c9",
   "metadata": {},
   "outputs": [],
   "source": [
    "client_data['age'] = 16"
   ]
  },
  {
   "cell_type": "code",
   "execution_count": 21,
   "id": "f0f7628e",
   "metadata": {},
   "outputs": [
    {
     "data": {
      "text/plain": [
       "{'name': 'Vasia', 'surname': 'Pupkin', 'age': 16, 'height': 180}"
      ]
     },
     "execution_count": 21,
     "metadata": {},
     "output_type": "execute_result"
    }
   ],
   "source": [
    "client_data"
   ]
  },
  {
   "cell_type": "code",
   "execution_count": 22,
   "id": "801d66eb",
   "metadata": {},
   "outputs": [
    {
     "data": {
      "text/plain": [
       "16"
      ]
     },
     "execution_count": 22,
     "metadata": {},
     "output_type": "execute_result"
    }
   ],
   "source": [
    "client_data.setdefault('age', 14)"
   ]
  },
  {
   "cell_type": "code",
   "execution_count": 23,
   "id": "59171cb3",
   "metadata": {},
   "outputs": [
    {
     "data": {
      "text/plain": [
       "{'name': 'Vasia', 'surname': 'Pupkin', 'age': 16, 'height': 180}"
      ]
     },
     "execution_count": 23,
     "metadata": {},
     "output_type": "execute_result"
    }
   ],
   "source": [
    "client_data"
   ]
  },
  {
   "cell_type": "code",
   "execution_count": 26,
   "id": "0986dd48",
   "metadata": {},
   "outputs": [],
   "source": [
    "client_data.update({\n",
    "    'age' : 14\n",
    "})"
   ]
  },
  {
   "cell_type": "code",
   "execution_count": 27,
   "id": "f47d510b",
   "metadata": {},
   "outputs": [
    {
     "data": {
      "text/plain": [
       "{'name': 'Vasia', 'surname': 'Pupkin', 'age': 14, 'height': 180}"
      ]
     },
     "execution_count": 27,
     "metadata": {},
     "output_type": "execute_result"
    }
   ],
   "source": [
    "client_data"
   ]
  },
  {
   "cell_type": "markdown",
   "id": "11e90d89",
   "metadata": {},
   "source": [
    "### Вложенный словарь \n",
    "- это словарь, содержащий другие словари"
   ]
  },
  {
   "cell_type": "code",
   "execution_count": 29,
   "id": "fe0d405a",
   "metadata": {},
   "outputs": [],
   "source": [
    "client_data.update({\n",
    "    'age' :  15,\n",
    "    'body' : {\n",
    "        'weight' : 80,\n",
    "        'height' : 186\n",
    "    }\n",
    "})"
   ]
  },
  {
   "cell_type": "code",
   "execution_count": 30,
   "id": "372e7811",
   "metadata": {},
   "outputs": [
    {
     "data": {
      "text/plain": [
       "{'name': 'Vasia',\n",
       " 'surname': 'Pupkin',\n",
       " 'age': 15,\n",
       " 'height': 180,\n",
       " 'body': {'weight': 80, 'height': 186}}"
      ]
     },
     "execution_count": 30,
     "metadata": {},
     "output_type": "execute_result"
    }
   ],
   "source": [
    "client_data"
   ]
  },
  {
   "cell_type": "code",
   "execution_count": 31,
   "id": "66e32f54",
   "metadata": {},
   "outputs": [
    {
     "data": {
      "text/plain": [
       "186"
      ]
     },
     "execution_count": 31,
     "metadata": {},
     "output_type": "execute_result"
    }
   ],
   "source": [
    "client_data['body']['height']"
   ]
  },
  {
   "cell_type": "markdown",
   "id": "d48c460d",
   "metadata": {},
   "source": [
    "## Random"
   ]
  },
  {
   "cell_type": "code",
   "execution_count": 82,
   "id": "2e38146d",
   "metadata": {},
   "outputs": [],
   "source": [
    "import random"
   ]
  },
  {
   "cell_type": "code",
   "execution_count": 83,
   "id": "47a5f118",
   "metadata": {},
   "outputs": [
    {
     "data": {
      "text/plain": [
       "7"
      ]
     },
     "execution_count": 83,
     "metadata": {},
     "output_type": "execute_result"
    }
   ],
   "source": [
    "np.random.randint(0,10)"
   ]
  },
  {
   "cell_type": "code",
   "execution_count": 84,
   "id": "f527303b",
   "metadata": {},
   "outputs": [
    {
     "data": {
      "text/plain": [
       "5"
      ]
     },
     "execution_count": 84,
     "metadata": {},
     "output_type": "execute_result"
    }
   ],
   "source": [
    "np.random.seed(9)\n",
    "np.random.randint(0,10)"
   ]
  },
  {
   "cell_type": "code",
   "execution_count": 85,
   "id": "dc274f45",
   "metadata": {},
   "outputs": [
    {
     "data": {
      "text/plain": [
       "0.4957732931341461"
      ]
     },
     "execution_count": 85,
     "metadata": {},
     "output_type": "execute_result"
    }
   ],
   "source": [
    "np.random.random()"
   ]
  },
  {
   "cell_type": "markdown",
   "id": "532a3cfb",
   "metadata": {},
   "source": [
    "random.uniform(A, B) - возвращает случайное число с плавающей точкой в диапазоне от A до B."
   ]
  },
  {
   "cell_type": "code",
   "execution_count": 86,
   "id": "b5553e4a",
   "metadata": {},
   "outputs": [
    {
     "data": {
      "text/plain": [
       "1.3382952895927658"
      ]
     },
     "execution_count": 86,
     "metadata": {},
     "output_type": "execute_result"
    }
   ],
   "source": [
    "np.random.uniform(0,10)"
   ]
  },
  {
   "cell_type": "markdown",
   "id": "9e6da0d1",
   "metadata": {},
   "source": [
    "random.sample(data, k) - возвращает список длиной k из последовательности data."
   ]
  },
  {
   "cell_type": "code",
   "execution_count": 96,
   "id": "c78e4861",
   "metadata": {},
   "outputs": [
    {
     "data": {
      "text/plain": [
       "['green', 'red']"
      ]
     },
     "execution_count": 96,
     "metadata": {},
     "output_type": "execute_result"
    }
   ],
   "source": [
    "a = ['black', 'red', 'yellow', 'green']\n",
    "random.sample(a,2)"
   ]
  },
  {
   "cell_type": "code",
   "execution_count": 97,
   "id": "7e6d3683",
   "metadata": {},
   "outputs": [
    {
     "data": {
      "text/plain": [
       "['yellow', 'black', 'green', 'red']"
      ]
     },
     "execution_count": 97,
     "metadata": {},
     "output_type": "execute_result"
    }
   ],
   "source": [
    "np.random.shuffle(a)\n",
    "a"
   ]
  },
  {
   "cell_type": "markdown",
   "id": "6845ab97",
   "metadata": {},
   "source": [
    "random.choice(data) - возвращает случайный элемент из последовательности."
   ]
  },
  {
   "cell_type": "code",
   "execution_count": 98,
   "id": "34ac90d4",
   "metadata": {},
   "outputs": [
    {
     "data": {
      "text/plain": [
       "'yellow'"
      ]
     },
     "execution_count": 98,
     "metadata": {},
     "output_type": "execute_result"
    }
   ],
   "source": [
    "np.random.choice(a)"
   ]
  },
  {
   "cell_type": "markdown",
   "id": "23dee08b",
   "metadata": {},
   "source": [
    "#### Функции\n",
    "- Функция в python - объект, который принимает аргументы, производит с ними желаемые действия и возвращает значение. \n",
    "- Аргумент функции — значение, которое передается в функцию при её вызове."
   ]
  },
  {
   "cell_type": "markdown",
   "id": "a97d90dc",
   "metadata": {},
   "source": [
    "Аргумент по позиции и имени"
   ]
  },
  {
   "cell_type": "code",
   "execution_count": 107,
   "id": "61b02bac",
   "metadata": {},
   "outputs": [],
   "source": [
    "def calc_sum(b = 8, a =3):\n",
    "    print(f'a is {a}')\n",
    "    print(f'b is {b}')\n",
    "    result = a + b\n",
    "    return result"
   ]
  },
  {
   "cell_type": "code",
   "execution_count": 108,
   "id": "d9221add",
   "metadata": {},
   "outputs": [
    {
     "name": "stdout",
     "output_type": "stream",
     "text": [
      "a is 3\n",
      "b is 8\n"
     ]
    },
    {
     "data": {
      "text/plain": [
       "11"
      ]
     },
     "execution_count": 108,
     "metadata": {},
     "output_type": "execute_result"
    }
   ],
   "source": [
    "calc_sum()"
   ]
  },
  {
   "cell_type": "markdown",
   "id": "ff9532fd",
   "metadata": {},
   "source": [
    "Имменованный аргумент \n",
    "Именованный аргумент - это аргумент, передаваемые в функцию при помощи имени. "
   ]
  },
  {
   "cell_type": "code",
   "execution_count": 113,
   "id": "609db549",
   "metadata": {},
   "outputs": [
    {
     "name": "stdout",
     "output_type": "stream",
     "text": [
      "a is 3\n",
      "b is 5\n"
     ]
    },
    {
     "data": {
      "text/plain": [
       "8"
      ]
     },
     "execution_count": 113,
     "metadata": {},
     "output_type": "execute_result"
    }
   ],
   "source": [
    "calc_sum(a=3, b=5)"
   ]
  },
  {
   "cell_type": "code",
   "execution_count": 114,
   "id": "37d95990",
   "metadata": {},
   "outputs": [
    {
     "name": "stdout",
     "output_type": "stream",
     "text": [
      "a is 3\n",
      "b is 5\n"
     ]
    },
    {
     "data": {
      "text/plain": [
       "8"
      ]
     },
     "execution_count": 114,
     "metadata": {},
     "output_type": "execute_result"
    }
   ],
   "source": [
    "calc_sum(b=5, a=3)"
   ]
  },
  {
   "cell_type": "code",
   "execution_count": 115,
   "id": "66a487a7",
   "metadata": {},
   "outputs": [
    {
     "ename": "SyntaxError",
     "evalue": "positional argument follows keyword argument (1851233537.py, line 1)",
     "output_type": "error",
     "traceback": [
      "\u001b[1;36m  File \u001b[1;32m\"C:\\Users\\User\\AppData\\Local\\Temp\\ipykernel_8020\\1851233537.py\"\u001b[1;36m, line \u001b[1;32m1\u001b[0m\n\u001b[1;33m    calc_sum(b=5, 3)\u001b[0m\n\u001b[1;37m                   ^\u001b[0m\n\u001b[1;31mSyntaxError\u001b[0m\u001b[1;31m:\u001b[0m positional argument follows keyword argument\n"
     ]
    }
   ],
   "source": [
    "calc_sum(b=5, 3)"
   ]
  },
  {
   "cell_type": "code",
   "execution_count": 116,
   "id": "f0624a5e",
   "metadata": {},
   "outputs": [
    {
     "ename": "TypeError",
     "evalue": "calc_sum() got multiple values for argument 'b'",
     "output_type": "error",
     "traceback": [
      "\u001b[1;31m---------------------------------------------------------------------------\u001b[0m",
      "\u001b[1;31mTypeError\u001b[0m                                 Traceback (most recent call last)",
      "\u001b[1;32m~\\AppData\\Local\\Temp\\ipykernel_8020\\1306435363.py\u001b[0m in \u001b[0;36m<module>\u001b[1;34m\u001b[0m\n\u001b[1;32m----> 1\u001b[1;33m \u001b[0mcalc_sum\u001b[0m\u001b[1;33m(\u001b[0m\u001b[1;36m3\u001b[0m\u001b[1;33m,\u001b[0m \u001b[0mb\u001b[0m\u001b[1;33m=\u001b[0m\u001b[1;36m5\u001b[0m\u001b[1;33m)\u001b[0m\u001b[1;33m\u001b[0m\u001b[1;33m\u001b[0m\u001b[0m\n\u001b[0m",
      "\u001b[1;31mTypeError\u001b[0m: calc_sum() got multiple values for argument 'b'"
     ]
    }
   ],
   "source": [
    "calc_sum(3, b=5)"
   ]
  },
  {
   "cell_type": "markdown",
   "id": "3f2a1bad",
   "metadata": {},
   "source": [
    "### Аргументы по умолчанию\n",
    "-В функцию можно передавать аргументы по умолчанию, это те аргументы, значения которых будут использованы, если не передали им явное значение при вызове."
   ]
  },
  {
   "cell_type": "code",
   "execution_count": 117,
   "id": "5e5d00c7",
   "metadata": {},
   "outputs": [],
   "source": [
    "def say_hi(greeting = 'Hello', name = 'World'):\n",
    "    return f'{greeting}, {name}'"
   ]
  },
  {
   "cell_type": "code",
   "execution_count": 118,
   "id": "28bd5c70",
   "metadata": {},
   "outputs": [
    {
     "data": {
      "text/plain": [
       "'Hello, World'"
      ]
     },
     "execution_count": 118,
     "metadata": {},
     "output_type": "execute_result"
    }
   ],
   "source": [
    "say_hi()"
   ]
  },
  {
   "cell_type": "code",
   "execution_count": 119,
   "id": "89ebdb4b",
   "metadata": {},
   "outputs": [
    {
     "data": {
      "text/plain": [
       "'Hey, USSR'"
      ]
     },
     "execution_count": 119,
     "metadata": {},
     "output_type": "execute_result"
    }
   ],
   "source": [
    "say_hi(greeting= 'Hey', name = 'USSR')"
   ]
  },
  {
   "cell_type": "code",
   "execution_count": 120,
   "id": "501f58a4",
   "metadata": {},
   "outputs": [],
   "source": [
    "def say_hi(greeting, name = 'World'):\n",
    "    return f'{greeting}, {name}'"
   ]
  },
  {
   "cell_type": "code",
   "execution_count": 121,
   "id": "c79cdaa4",
   "metadata": {},
   "outputs": [
    {
     "ename": "TypeError",
     "evalue": "say_hi() missing 1 required positional argument: 'greeting'",
     "output_type": "error",
     "traceback": [
      "\u001b[1;31m---------------------------------------------------------------------------\u001b[0m",
      "\u001b[1;31mTypeError\u001b[0m                                 Traceback (most recent call last)",
      "\u001b[1;32m~\\AppData\\Local\\Temp\\ipykernel_8020\\3518372212.py\u001b[0m in \u001b[0;36m<module>\u001b[1;34m\u001b[0m\n\u001b[1;32m----> 1\u001b[1;33m \u001b[0msay_hi\u001b[0m\u001b[1;33m(\u001b[0m\u001b[1;33m)\u001b[0m\u001b[1;33m\u001b[0m\u001b[1;33m\u001b[0m\u001b[0m\n\u001b[0m",
      "\u001b[1;31mTypeError\u001b[0m: say_hi() missing 1 required positional argument: 'greeting'"
     ]
    }
   ],
   "source": [
    "say_hi()"
   ]
  },
  {
   "cell_type": "code",
   "execution_count": 122,
   "id": "221a9cd5",
   "metadata": {},
   "outputs": [
    {
     "data": {
      "text/plain": [
       "'Hello, World'"
      ]
     },
     "execution_count": 122,
     "metadata": {},
     "output_type": "execute_result"
    }
   ],
   "source": [
    "say_hi('Hello')"
   ]
  },
  {
   "cell_type": "markdown",
   "id": "23069240",
   "metadata": {},
   "source": [
    "### Аргумент *args\n",
    "*args — это сокращение от «arguments» (аргументы).\n"
   ]
  },
  {
   "cell_type": "code",
   "execution_count": 127,
   "id": "1c5a68a9",
   "metadata": {},
   "outputs": [],
   "source": [
    "def calc(a, b, c):\n",
    "    return a + b + c"
   ]
  },
  {
   "cell_type": "code",
   "execution_count": 133,
   "id": "7368eeeb",
   "metadata": {},
   "outputs": [],
   "source": [
    "def calc_sum(*args):\n",
    "    result = sum(args)\n",
    "    return result"
   ]
  },
  {
   "cell_type": "code",
   "execution_count": 134,
   "id": "36e22041",
   "metadata": {},
   "outputs": [
    {
     "data": {
      "text/plain": [
       "6"
      ]
     },
     "execution_count": 134,
     "metadata": {},
     "output_type": "execute_result"
    }
   ],
   "source": [
    "calc(1,2,3)"
   ]
  },
  {
   "cell_type": "code",
   "execution_count": 135,
   "id": "57f79ef3",
   "metadata": {},
   "outputs": [
    {
     "data": {
      "text/plain": [
       "9"
      ]
     },
     "execution_count": 135,
     "metadata": {},
     "output_type": "execute_result"
    }
   ],
   "source": [
    "calc_sum(2, 3, 4) "
   ]
  },
  {
   "cell_type": "code",
   "execution_count": 136,
   "id": "d418a19b",
   "metadata": {},
   "outputs": [
    {
     "data": {
      "text/plain": [
       "1"
      ]
     },
     "execution_count": 136,
     "metadata": {},
     "output_type": "execute_result"
    }
   ],
   "source": [
    "calc_sum(1)"
   ]
  },
  {
   "cell_type": "code",
   "execution_count": 141,
   "id": "6720a220",
   "metadata": {},
   "outputs": [],
   "source": [
    "def calc_su(*args):\n",
    "    print(args)\n",
    "    print(type(args))\n",
    "    result = sum(args)\n",
    "    return result"
   ]
  },
  {
   "cell_type": "code",
   "execution_count": 142,
   "id": "ec27a6e2",
   "metadata": {},
   "outputs": [
    {
     "name": "stdout",
     "output_type": "stream",
     "text": [
      "(1, 2, 3)\n",
      "<class 'tuple'>\n"
     ]
    },
    {
     "data": {
      "text/plain": [
       "6"
      ]
     },
     "execution_count": 142,
     "metadata": {},
     "output_type": "execute_result"
    }
   ],
   "source": [
    "calc_su(1, 2, 3)"
   ]
  },
  {
   "cell_type": "code",
   "execution_count": 143,
   "id": "022d94a8",
   "metadata": {},
   "outputs": [],
   "source": [
    "def printer(*args):\n",
    "    print(args)\n",
    "    print(type(args))\n",
    "    print()\n",
    "    for i in args:\n",
    "        print(i)"
   ]
  },
  {
   "cell_type": "code",
   "execution_count": 144,
   "id": "19677455",
   "metadata": {},
   "outputs": [
    {
     "name": "stdout",
     "output_type": "stream",
     "text": [
      "(1, 'text', {'key': 'value'})\n",
      "<class 'tuple'>\n",
      "\n",
      "1\n",
      "text\n",
      "{'key': 'value'}\n"
     ]
    }
   ],
   "source": [
    "printer(1, 'text', {'key' : 'value'})"
   ]
  },
  {
   "cell_type": "code",
   "execution_count": 145,
   "id": "24febc14",
   "metadata": {},
   "outputs": [
    {
     "name": "stdout",
     "output_type": "stream",
     "text": [
      "(['Join', 'Nick', 'Bill'],)\n",
      "<class 'tuple'>\n",
      "\n",
      "['Join', 'Nick', 'Bill']\n"
     ]
    }
   ],
   "source": [
    "names = ['Join', 'Nick', 'Bill']\n",
    "printer(names)"
   ]
  },
  {
   "cell_type": "code",
   "execution_count": 146,
   "id": "d65ab77d",
   "metadata": {},
   "outputs": [
    {
     "name": "stdout",
     "output_type": "stream",
     "text": [
      "('Join', 'Nick', 'Bill')\n",
      "<class 'tuple'>\n",
      "\n",
      "Join\n",
      "Nick\n",
      "Bill\n"
     ]
    }
   ],
   "source": [
    "printer(*names)"
   ]
  },
  {
   "cell_type": "markdown",
   "id": "536e5780",
   "metadata": {},
   "source": [
    "### Аргумент **kwargs\n",
    "** kwargs — сокращение от «keyword arguments» (именованные аргументы).\t\n"
   ]
  },
  {
   "cell_type": "code",
   "execution_count": 149,
   "id": "701a341f",
   "metadata": {},
   "outputs": [],
   "source": [
    "def printer(**kwargs):\n",
    "    print(kwargs)\n",
    "    print(type(kwargs))\n",
    "    print()\n",
    "    for key,value in kwargs.items():\n",
    "        print(f'{key} - {value}')"
   ]
  },
  {
   "cell_type": "code",
   "execution_count": 153,
   "id": "485bab1d",
   "metadata": {},
   "outputs": [
    {
     "name": "stdout",
     "output_type": "stream",
     "text": [
      "{'a': 10, 'b': '20', 'c': ['1', 'v']}\n",
      "<class 'dict'>\n",
      "\n",
      "a - 10\n",
      "b - 20\n",
      "c - ['1', 'v']\n"
     ]
    }
   ],
   "source": [
    "printer(a=10, b='20', c=['1', 'v'])"
   ]
  },
  {
   "cell_type": "code",
   "execution_count": 154,
   "id": "fa73c3cc",
   "metadata": {},
   "outputs": [],
   "source": [
    "def say_hi(**kwargs):\n",
    "    greeting = kwargs.get('greeting', 'Hello')\n",
    "    name = kwargs.get('name', 'World')\n",
    "    return f'{greeting}, {name}'"
   ]
  },
  {
   "cell_type": "code",
   "execution_count": 155,
   "id": "00b18b2b",
   "metadata": {},
   "outputs": [
    {
     "data": {
      "text/plain": [
       "'Hello, World'"
      ]
     },
     "execution_count": 155,
     "metadata": {},
     "output_type": "execute_result"
    }
   ],
   "source": [
    "say_hi()"
   ]
  },
  {
   "cell_type": "code",
   "execution_count": 156,
   "id": "4f652253",
   "metadata": {},
   "outputs": [
    {
     "data": {
      "text/plain": [
       "'Hey, John'"
      ]
     },
     "execution_count": 156,
     "metadata": {},
     "output_type": "execute_result"
    }
   ],
   "source": [
    "say_hi(greeting= 'Hey' , name='John')"
   ]
  },
  {
   "cell_type": "code",
   "execution_count": 157,
   "id": "b5e2fc5b",
   "metadata": {},
   "outputs": [
    {
     "data": {
      "text/plain": [
       "'Hey, John'"
      ]
     },
     "execution_count": 157,
     "metadata": {},
     "output_type": "execute_result"
    }
   ],
   "source": [
    "data = {'greeting': 'Hey',\n",
    "       'name' : 'John',\n",
    "       'extra' : 5}\n",
    "say_hi(**data)"
   ]
  },
  {
   "cell_type": "markdown",
   "id": "d5daabbd",
   "metadata": {},
   "source": [
    " ### Аннотирование типов"
   ]
  },
  {
   "cell_type": "code",
   "execution_count": 158,
   "id": "5741d5f2",
   "metadata": {},
   "outputs": [],
   "source": [
    "def calc_sum(a: int, b: int) -> int:\n",
    "    return a + b"
   ]
  },
  {
   "cell_type": "code",
   "execution_count": 159,
   "id": "dd7d5160",
   "metadata": {},
   "outputs": [
    {
     "data": {
      "text/plain": [
       "3"
      ]
     },
     "execution_count": 159,
     "metadata": {},
     "output_type": "execute_result"
    }
   ],
   "source": [
    "calc_sum(1, 2)"
   ]
  },
  {
   "cell_type": "code",
   "execution_count": 160,
   "id": "62cc4cfa",
   "metadata": {},
   "outputs": [
    {
     "data": {
      "text/plain": [
       "3.3000000000000003"
      ]
     },
     "execution_count": 160,
     "metadata": {},
     "output_type": "execute_result"
    }
   ],
   "source": [
    "calc_sum(1.1, 2.2)"
   ]
  },
  {
   "cell_type": "code",
   "execution_count": 161,
   "id": "61b915ff",
   "metadata": {},
   "outputs": [
    {
     "data": {
      "text/plain": [
       "'abcdce'"
      ]
     },
     "execution_count": 161,
     "metadata": {},
     "output_type": "execute_result"
    }
   ],
   "source": [
    "calc_sum('abc', 'dce')"
   ]
  },
  {
   "cell_type": "markdown",
   "id": "a876a372",
   "metadata": {},
   "source": [
    "### Генератор\n",
    "Генератор - это объект, который сразу при создании не вычисляет значения всех своих элементов.       \n",
    "Генератор хранит в памяти:\n",
    "1.\tпоследний вычисленный элемент\n",
    "2.\tправило перехода к следующему\n",
    "3.\tусловие, при котором выполнение прерывается\n"
   ]
  },
  {
   "cell_type": "code",
   "execution_count": 163,
   "id": "5635dcdf",
   "metadata": {},
   "outputs": [],
   "source": [
    "def my_range(start, end):\n",
    "    current = start\n",
    "    while current < end:\n",
    "        yield current\n",
    "        current += 1"
   ]
  },
  {
   "cell_type": "code",
   "execution_count": 164,
   "id": "274a2789",
   "metadata": {},
   "outputs": [
    {
     "data": {
      "text/plain": [
       "<generator object my_range at 0x0000023E797D4C10>"
      ]
     },
     "execution_count": 164,
     "metadata": {},
     "output_type": "execute_result"
    }
   ],
   "source": [
    "ranger = my_range(0, 2)\n",
    "ranger"
   ]
  },
  {
   "cell_type": "code",
   "execution_count": 165,
   "id": "2ffa7e4b",
   "metadata": {},
   "outputs": [
    {
     "data": {
      "text/plain": [
       "0"
      ]
     },
     "execution_count": 165,
     "metadata": {},
     "output_type": "execute_result"
    }
   ],
   "source": [
    "next(ranger)"
   ]
  },
  {
   "cell_type": "code",
   "execution_count": 168,
   "id": "e7c6a89b",
   "metadata": {},
   "outputs": [
    {
     "data": {
      "text/plain": [
       "1"
      ]
     },
     "execution_count": 168,
     "metadata": {},
     "output_type": "execute_result"
    }
   ],
   "source": [
    "next(ranger)"
   ]
  },
  {
   "cell_type": "code",
   "execution_count": 169,
   "id": "c09cda8b",
   "metadata": {},
   "outputs": [
    {
     "ename": "StopIteration",
     "evalue": "",
     "output_type": "error",
     "traceback": [
      "\u001b[1;31m---------------------------------------------------------------------------\u001b[0m",
      "\u001b[1;31mStopIteration\u001b[0m                             Traceback (most recent call last)",
      "\u001b[1;32m~\\AppData\\Local\\Temp\\ipykernel_8020\\1267007448.py\u001b[0m in \u001b[0;36m<module>\u001b[1;34m\u001b[0m\n\u001b[1;32m----> 1\u001b[1;33m \u001b[0mnext\u001b[0m\u001b[1;33m(\u001b[0m\u001b[0mranger\u001b[0m\u001b[1;33m)\u001b[0m\u001b[1;33m\u001b[0m\u001b[1;33m\u001b[0m\u001b[0m\n\u001b[0m",
      "\u001b[1;31mStopIteration\u001b[0m: "
     ]
    }
   ],
   "source": [
    "next(ranger)"
   ]
  },
  {
   "cell_type": "code",
   "execution_count": 170,
   "id": "2eb1b4b7",
   "metadata": {
    "scrolled": true
   },
   "outputs": [
    {
     "name": "stdout",
     "output_type": "stream",
     "text": [
      "2\n",
      "3\n",
      "4\n"
     ]
    }
   ],
   "source": [
    "gen_a = my_range(2, 5)\n",
    "for i  in gen_a:\n",
    "    print(i)"
   ]
  },
  {
   "cell_type": "code",
   "execution_count": 171,
   "id": "f6056fd6",
   "metadata": {},
   "outputs": [],
   "source": [
    "for i  in gen_a: # Хранится в памяти один раз \n",
    "    print(i)"
   ]
  },
  {
   "cell_type": "code",
   "execution_count": 172,
   "id": "860403b1",
   "metadata": {},
   "outputs": [],
   "source": [
    "def csv_reader(file_name):\n",
    "    file = open(file_name)\n",
    "    result = file.read().split(\"\\n\")\n",
    "    return result"
   ]
  },
  {
   "cell_type": "markdown",
   "id": "6f36f288",
   "metadata": {},
   "source": [
    "Можем переписать функцию csv_reader через генератор. В этой версии открываем файл, проходим его по строкам и извлекает для чтения только отдельный ряд, вместо того, чтобы возвращать весь файл целиком:"
   ]
  },
  {
   "cell_type": "code",
   "execution_count": 173,
   "id": "60882498",
   "metadata": {},
   "outputs": [],
   "source": [
    "def csv_reader(file_name):\n",
    "    for row in open(file_name, \"r\"):\n",
    "        yield row"
   ]
  },
  {
   "cell_type": "markdown",
   "id": "3edfaa31",
   "metadata": {},
   "source": [
    "### list comprehensions\n",
    "1.\tСоздаем пустой список\n",
    "2.\tИтерируемся по объекту (или range)\n",
    "3.\tДобавляем каждый элемент в список\n"
   ]
  },
  {
   "cell_type": "code",
   "execution_count": 174,
   "id": "a4089a6b",
   "metadata": {},
   "outputs": [
    {
     "data": {
      "text/plain": [
       "[0, 1, 4, 9, 16]"
      ]
     },
     "execution_count": 174,
     "metadata": {},
     "output_type": "execute_result"
    }
   ],
   "source": [
    "squares = []\n",
    "for i in range(5):\n",
    "    squares.append(i * i)\n",
    "squares"
   ]
  },
  {
   "cell_type": "code",
   "execution_count": 98,
   "id": "f0d479e6",
   "metadata": {},
   "outputs": [
    {
     "data": {
      "text/plain": [
       "[0, 1, 4, 9, 16]"
      ]
     },
     "execution_count": 98,
     "metadata": {},
     "output_type": "execute_result"
    }
   ],
   "source": [
    "squares = [ i * i for i in range(5)]\n",
    "squares"
   ]
  },
  {
   "attachments": {
    "%D0%B8%D0%B7%D0%BE%D0%B1%D1%80%D0%B0%D0%B6%D0%B5%D0%BD%D0%B8%D0%B5.png": {
     "image/png": "[encoded data removed]"
    }
   },
   "cell_type": "markdown",
   "id": "a4766f59",
   "metadata": {},
   "source": [
    "![%D0%B8%D0%B7%D0%BE%D0%B1%D1%80%D0%B0%D0%B6%D0%B5%D0%BD%D0%B8%D0%B5.png](attachment:%D0%B8%D0%B7%D0%BE%D0%B1%D1%80%D0%B0%D0%B6%D0%B5%D0%BD%D0%B8%D0%B5.png)"
   ]
  },
  {
   "cell_type": "code",
   "execution_count": 99,
   "id": "dc7e3c31",
   "metadata": {},
   "outputs": [
    {
     "data": {
      "text/plain": [
       "[0, 2, 4, 6, 8]"
      ]
     },
     "execution_count": 99,
     "metadata": {},
     "output_type": "execute_result"
    }
   ],
   "source": [
    "even_nums = []\n",
    "for i in range(10):\n",
    "    if i % 2  == 0:\n",
    "        even_nums.append(i)\n",
    "even_nums"
   ]
  },
  {
   "cell_type": "markdown",
   "id": "8734088b",
   "metadata": {},
   "source": [
    "#### помощью list comprehension:"
   ]
  },
  {
   "cell_type": "code",
   "execution_count": 102,
   "id": "f8e73bdd",
   "metadata": {},
   "outputs": [
    {
     "data": {
      "text/plain": [
       "[0, 2, 4, 6, 8]"
      ]
     },
     "execution_count": 102,
     "metadata": {},
     "output_type": "execute_result"
    }
   ],
   "source": [
    "even_nums = [i for i in range(10) if i % 2 == 0 ]\n",
    "even_nums"
   ]
  },
  {
   "cell_type": "code",
   "execution_count": 175,
   "id": "054dc600",
   "metadata": {},
   "outputs": [
    {
     "data": {
      "text/plain": [
       "[0, 1, 4, 9, 16, 25, 36, 49, 64, 81]"
      ]
     },
     "execution_count": 175,
     "metadata": {},
     "output_type": "execute_result"
    }
   ],
   "source": [
    "square = []\n",
    "for i in range(10):\n",
    "    square.append(i * i)\n",
    "    \n",
    "square"
   ]
  },
  {
   "cell_type": "code",
   "execution_count": 177,
   "id": "fdcc669e",
   "metadata": {},
   "outputs": [
    {
     "data": {
      "text/plain": [
       "[0, 1, 4, 9, 16, 25, 36, 49, 64, 81]"
      ]
     },
     "execution_count": 177,
     "metadata": {},
     "output_type": "execute_result"
    }
   ],
   "source": [
    "square = [i * i for i in range(10)]\n",
    "square"
   ]
  },
  {
   "cell_type": "code",
   "execution_count": 178,
   "id": "6247dd1e",
   "metadata": {},
   "outputs": [
    {
     "data": {
      "text/plain": [
       "[125, 0, 103, 38, 0, 116]"
      ]
     },
     "execution_count": 178,
     "metadata": {},
     "output_type": "execute_result"
    }
   ],
   "source": [
    "orige_prices = [125, -9, 103, 38, -12, 116]\n",
    "prices = [i if  i > 0 else 0 for i in orige_prices]\n",
    "prices"
   ]
  },
  {
   "cell_type": "code",
   "execution_count": 180,
   "id": "90f01259",
   "metadata": {},
   "outputs": [
    {
     "data": {
      "text/plain": [
       "[125, 0, 103, 38, 0, 116]"
      ]
     },
     "execution_count": 180,
     "metadata": {},
     "output_type": "execute_result"
    }
   ],
   "source": [
    "orige_prices = [125, -9, 103, 38, -12, 116]\n",
    "def get_price(price):\n",
    "    return price if price > 0 else 0\n",
    "\n",
    "prices = [get_price(i) for i in orige_prices]\n",
    "prices"
   ]
  },
  {
   "cell_type": "code",
   "execution_count": 181,
   "id": "868e37f3",
   "metadata": {},
   "outputs": [
    {
     "data": {
      "text/plain": [
       "[125, 0, 103, 38, 0, 116]"
      ]
     },
     "execution_count": 181,
     "metadata": {},
     "output_type": "execute_result"
    }
   ],
   "source": [
    "pr = [ i if i > 0 else 0 for i in orige_prices]\n",
    "pr"
   ]
  },
  {
   "cell_type": "markdown",
   "id": "bdb49638",
   "metadata": {},
   "source": [
    "### Set и dict comprehensions"
   ]
  },
  {
   "cell_type": "code",
   "execution_count": 182,
   "id": "835717fc",
   "metadata": {},
   "outputs": [
    {
     "data": {
      "text/plain": [
       "{'black', 'green', 'red'}"
      ]
     },
     "execution_count": 182,
     "metadata": {},
     "output_type": "execute_result"
    }
   ],
   "source": [
    "colors = ['black', 'red', 'green', 'red', 'green']\n",
    "colors\n",
    "{i for i in colors}# set comprehensions"
   ]
  },
  {
   "cell_type": "markdown",
   "id": "86d95684",
   "metadata": {},
   "source": [
    "### Dict comprehensions "
   ]
  },
  {
   "cell_type": "code",
   "execution_count": 183,
   "id": "43e8b13b",
   "metadata": {},
   "outputs": [
    {
     "data": {
      "text/plain": [
       "{0: 0, 1: 1, 2: 4, 3: 9, 4: 16}"
      ]
     },
     "execution_count": 183,
     "metadata": {},
     "output_type": "execute_result"
    }
   ],
   "source": [
    "square_dict = {i: i * i for i in range(5)}\n",
    "square_dict"
   ]
  },
  {
   "cell_type": "code",
   "execution_count": 186,
   "id": "8e009c1c",
   "metadata": {},
   "outputs": [
    {
     "name": "stdout",
     "output_type": "stream",
     "text": [
      "Wall time: 28.5 s\n"
     ]
    }
   ],
   "source": [
    "%%time\n",
    "even_nums = []\n",
    "for i in range(100000000):\n",
    "    if i % 2 == 0:\n",
    "        even_nums.append(i)"
   ]
  },
  {
   "cell_type": "code",
   "execution_count": 187,
   "id": "c72c4cbd",
   "metadata": {},
   "outputs": [
    {
     "name": "stdout",
     "output_type": "stream",
     "text": [
      "Wall time: 15.3 s\n"
     ]
    }
   ],
   "source": [
    "%%time \n",
    "even_nums = [i for i in range(100000000) if i % 2 == 0 ]"
   ]
  },
  {
   "cell_type": "code",
   "execution_count": null,
   "id": "d1cb5bef",
   "metadata": {},
   "outputs": [],
   "source": []
  }
 ],
 "metadata": {
  "kernelspec": {
   "display_name": "Python 3 (ipykernel)",
   "language": "python",
   "name": "python3"
  },
  "language_info": {
   "codemirror_mode": {
    "name": "ipython",
    "version": 3
   },
   "file_extension": ".py",
   "mimetype": "text/x-python",
   "name": "python",
   "nbconvert_exporter": "python",
   "pygments_lexer": "ipython3",
   "version": "3.9.13"
  }
 },
 "nbformat": 4,
 "nbformat_minor": 5
}
