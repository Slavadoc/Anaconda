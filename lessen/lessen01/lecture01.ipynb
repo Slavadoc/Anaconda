{
 "cells": [
  {
   "cell_type": "code",
   "execution_count": 35,
   "id": "484cdbb8",
   "metadata": {},
   "outputs": [],
   "source": [
    "import seaborn as sns\n",
    "import numpy as np"
   ]
  },
  {
   "cell_type": "markdown",
   "id": "3df81dda",
   "metadata": {},
   "source": [
    "## 0 Задача\n",
    "#### Весь ноутбук оформлять заголовками и текстами\n",
    " \n",
    " - номер задачи\n",
    " - номер подзадачи \n",
    " - предоставленные наборы данных  оформляем как код "
   ]
  },
  {
   "cell_type": "code",
   "execution_count": 3,
   "id": "1db62677",
   "metadata": {},
   "outputs": [],
   "source": [
    "dict1 = {'One' : 1, 'Two': 2, 'Three' : 3}\n",
    "dict2 = {'Four': 4, 'Five': 5, 'Six' : 6}\n",
    "dict3 = {}"
   ]
  },
  {
   "cell_type": "code",
   "execution_count": 6,
   "id": "11fb65bf",
   "metadata": {},
   "outputs": [
    {
     "data": {
      "text/plain": [
       "{'One': 1, 'Two': 2, 'Three': 3, 'Four': 4, 'Five': 5, 'Six': 6}"
      ]
     },
     "execution_count": 6,
     "metadata": {},
     "output_type": "execute_result"
    }
   ],
   "source": [
    "dict1.update(dict2)\n",
    "dict1\n",
    "dict3.update(dict1)\n",
    "dict3"
   ]
  },
  {
   "cell_type": "code",
   "execution_count": null,
   "id": "56ae21c0",
   "metadata": {},
   "outputs": [],
   "source": [
    "def funck(dict1,dict2):\n",
    "    dict.update(dict2)\n",
    "    return dict1"
   ]
  },
  {
   "cell_type": "markdown",
   "id": "6af6866f",
   "metadata": {},
   "source": [
    "## задание 2"
   ]
  },
  {
   "cell_type": "code",
   "execution_count": 21,
   "id": "2656b119",
   "metadata": {},
   "outputs": [],
   "source": [
    "keys = ['one', 'Two', 'Three']\n",
    "values = [1,2,3]"
   ]
  },
  {
   "cell_type": "code",
   "execution_count": 22,
   "id": "dcc2a3af",
   "metadata": {},
   "outputs": [
    {
     "data": {
      "text/plain": [
       "{'one': 1, 'Two': 2, 'Three': 3}"
      ]
     },
     "execution_count": 22,
     "metadata": {},
     "output_type": "execute_result"
    }
   ],
   "source": [
    "def get_dict(keys,values):\n",
    "    res = {}\n",
    "    for i  in range(len(keys)):\n",
    "        res.update(\n",
    "            {keys[i] :  values[i]\n",
    "            }\n",
    "        )\n",
    "    return res\n",
    "    \n",
    "get_dict(keys,values)"
   ]
  },
  {
   "cell_type": "markdown",
   "id": "9092e305",
   "metadata": {},
   "source": [
    "### List comprehencion"
   ]
  },
  {
   "cell_type": "code",
   "execution_count": 24,
   "id": "a2411481",
   "metadata": {},
   "outputs": [
    {
     "data": {
      "text/plain": [
       "{'one': 1, 'Two': 2, 'Three': 3}"
      ]
     },
     "execution_count": 24,
     "metadata": {},
     "output_type": "execute_result"
    }
   ],
   "source": [
    "def get_dic(keys,values):\n",
    "    return {keys[i]: values[i] for i in range(len(keys))} # Быстрее чем for\n",
    "\n",
    "get_dic(keys,values)"
   ]
  },
  {
   "cell_type": "markdown",
   "id": "9f4270f3",
   "metadata": {},
   "source": [
    "### Задание 3"
   ]
  },
  {
   "cell_type": "code",
   "execution_count": 28,
   "id": "b1314d19",
   "metadata": {},
   "outputs": [],
   "source": [
    "client_dict = {\n",
    "    \"name\": \"John\",\n",
    "    \"age\": 25,\n",
    "    \"salary\": 5000,\n",
    "    \"city\": \"Moscow\"\n",
    "}"
   ]
  },
  {
   "cell_type": "code",
   "execution_count": 29,
   "id": "dee3e256",
   "metadata": {},
   "outputs": [
    {
     "data": {
      "text/plain": [
       "['name', 'age']"
      ]
     },
     "execution_count": 29,
     "metadata": {},
     "output_type": "execute_result"
    }
   ],
   "source": [
    "keys = ['name','age']\n",
    "keys"
   ]
  },
  {
   "cell_type": "code",
   "execution_count": 30,
   "id": "b1a78a9c",
   "metadata": {},
   "outputs": [],
   "source": [
    "def get_keys(dict1, keys):\n",
    "    res = {}\n",
    "    for i in keys:\n",
    "        res.update({\n",
    "            i: dict1[i]\n",
    "        })\n",
    "    return res"
   ]
  },
  {
   "cell_type": "code",
   "execution_count": 31,
   "id": "87b47405",
   "metadata": {},
   "outputs": [
    {
     "data": {
      "text/plain": [
       "{'name': 'John', 'age': 25}"
      ]
     },
     "execution_count": 31,
     "metadata": {},
     "output_type": "execute_result"
    }
   ],
   "source": [
    "get_keys(client_dict, keys)"
   ]
  },
  {
   "cell_type": "code",
   "execution_count": 33,
   "id": "be199ef1",
   "metadata": {},
   "outputs": [
    {
     "data": {
      "text/plain": [
       "{'name': 'John', 'age': 25}"
      ]
     },
     "execution_count": 33,
     "metadata": {},
     "output_type": "execute_result"
    }
   ],
   "source": [
    "new_dict = {i : client_dict[i] for i in keys}\n",
    "new_dict"
   ]
  },
  {
   "cell_type": "markdown",
   "id": "ea9fc0d8",
   "metadata": {},
   "source": [
    "<img src='https://149695847.v2.pressablecdn.com/wp-content/uploads/2017/06/ea8853d740994d7a23b587d20033c262.jpg\n",
    "'>"
   ]
  },
  {
   "cell_type": "markdown",
   "id": "e14af25a",
   "metadata": {},
   "source": [
    "### Задание 4"
   ]
  },
  {
   "cell_type": "markdown",
   "id": "8a9335e9",
   "metadata": {},
   "source": [
    "<table>\n",
    "    <tr>\n",
    "        <td></td>\n",
    "        <td> До события </td>\n",
    "        <td> После сабытия</td>\n",
    "    </tr>\n",
    "    <tr>\n",
    "        <td>1  контрольная точка </td>\n",
    "        <td>250 </td>\n",
    "        <td>500 </td>\n",
    "    </tr>\n",
    "        <tr>\n",
    "        <td>2  контрольная точка </td>\n",
    "        <td>350 </td>\n",
    "        <td>700 </td>\n",
    "    </tr>\n",
    "</table>   "
   ]
  },
  {
   "cell_type": "markdown",
   "id": "9787867e",
   "metadata": {},
   "source": [
    "<table>\n",
    "    <tr>\n",
    "        <td></td>\n",
    "        <td> До события </td>\n",
    "        <td> После сабытия</td>\n",
    "    </tr>\n",
    "    <tr>\n",
    "        <td>1  контрольная точка </td>\n",
    "        <td>250 </td>\n",
    "        <td>500 </td>\n",
    "    </tr>\n",
    "        <tr>\n",
    "        <td>2  контрольная точка </td>\n",
    "        <td>350 </td>\n",
    "        <td>700 </td>\n",
    "    </tr>\n",
    "</table>   "
   ]
  },
  {
   "cell_type": "code",
   "execution_count": 48,
   "id": "bb1ed107",
   "metadata": {},
   "outputs": [
    {
     "data": {
      "text/plain": [
       "[23, 13, 86, 93, 94]"
      ]
     },
     "execution_count": 48,
     "metadata": {},
     "output_type": "execute_result"
    }
   ],
   "source": [
    "def smth():\n",
    "    list = []\n",
    "    for i in range(5):\n",
    "        list.append(np.random.randint(1,100))\n",
    "    return list\n",
    "smth()"
   ]
  },
  {
   "cell_type": "markdown",
   "id": "eca8bda7",
   "metadata": {},
   "source": [
    "6 "
   ]
  },
  {
   "cell_type": "code",
   "execution_count": 122,
   "id": "6b69523c",
   "metadata": {},
   "outputs": [
    {
     "data": {
      "text/plain": [
       "[75, 27, 6, 2, 3]"
      ]
     },
     "execution_count": 122,
     "metadata": {},
     "output_type": "execute_result"
    }
   ],
   "source": [
    "data = [np.random.randint(0,100) for i in range(5)]\n",
    "data"
   ]
  },
  {
   "cell_type": "code",
   "execution_count": 123,
   "id": "5d714037",
   "metadata": {},
   "outputs": [
    {
     "data": {
      "text/plain": [
       "67"
      ]
     },
     "execution_count": 123,
     "metadata": {},
     "output_type": "execute_result"
    }
   ],
   "source": [
    "s = np.random.randint(0,100)\n",
    "np.random.seed(12)\n",
    "s"
   ]
  },
  {
   "cell_type": "code",
   "execution_count": 124,
   "id": "8d7e7ff1",
   "metadata": {},
   "outputs": [],
   "source": [
    "def sum_s(*args):\n",
    "    sum_purch = sum(args)\n",
    "    n_purch = len(args)\n",
    "    return {\n",
    "        'sum' : sum_purch,\n",
    "        'mean': sum_purch / n_purch\n",
    "    }"
   ]
  },
  {
   "cell_type": "code",
   "execution_count": 125,
   "id": "c2642786",
   "metadata": {},
   "outputs": [
    {
     "data": {
      "text/plain": [
       "{'sum': 40, 'mean': 5.714285714285714}"
      ]
     },
     "execution_count": 125,
     "metadata": {},
     "output_type": "execute_result"
    }
   ],
   "source": [
    "sum_s(1,4,6,7,8,10,4)"
   ]
  },
  {
   "cell_type": "markdown",
   "id": "762514bc",
   "metadata": {},
   "source": [
    "## Генератор"
   ]
  },
  {
   "cell_type": "markdown",
   "id": "d1e6ae90",
   "metadata": {},
   "source": [
    "- Генератор на вход принимает список с данными о клиенте (данные из пункта 4.1)\n",
    "- Внутри генератора реализуйте обход по списку с данными\n",
    "На каждой итерации генератор будет возвращать кортеж из двух элементов:\n",
    "\n",
    "данные по клиенту (в зависимости от итерации, на 0 итерации вернется 0 элемент, на 1 итерации вернется 1 элемент и тд)\n",
    "целочисленное значение, которое показывает, сколько секунд прошло с предыдущей итерации\n",
    "Примечание: секунды, которые возвращаются должны показывать время не с начала запуска генератора, а именно то время, которое прошло с предыдущей итерации. А значит время на первой итерации должно равняться 0.\n",
    "\n",
    "- Используйте функцию time из модуля time для подсчета времени.\n",
    "- Чтобы проверить работу таймера, запустите проход по генератору в цикле с time.sleep(2)\n"
   ]
  },
  {
   "cell_type": "code",
   "execution_count": 138,
   "id": "d2c1f55c",
   "metadata": {},
   "outputs": [],
   "source": [
    "import time"
   ]
  },
  {
   "cell_type": "code",
   "execution_count": 139,
   "id": "4e793147",
   "metadata": {},
   "outputs": [
    {
     "data": {
      "text/plain": [
       "[75, 27, 6, 2, 3]"
      ]
     },
     "execution_count": 139,
     "metadata": {},
     "output_type": "execute_result"
    }
   ],
   "source": [
    "data = [np.random.randint(0,100) for i in range(5)]\n",
    "data"
   ]
  },
  {
   "cell_type": "code",
   "execution_count": 142,
   "id": "ba9575bd",
   "metadata": {},
   "outputs": [],
   "source": [
    "def fun(data):\n",
    "    last_time = None\n",
    "    for i in data:\n",
    "        curett_time =time.time()\n",
    "        \n",
    "        if last_time:\n",
    "            delta = curett_time - last_time\n",
    "        else:\n",
    "            delta = curett_time - curett_time\n",
    "            \n",
    "        last_time = time.time()\n",
    "        yield(int(delta), i)# аналог  return"
   ]
  },
  {
   "cell_type": "code",
   "execution_count": 143,
   "id": "fe5d89f8",
   "metadata": {},
   "outputs": [
    {
     "name": "stdout",
     "output_type": "stream",
     "text": [
      "(0, 75)\n",
      "(2, 27)\n",
      "(2, 6)\n",
      "(2, 2)\n",
      "(2, 3)\n"
     ]
    }
   ],
   "source": [
    "for i in fun(data):\n",
    "    print(i)\n",
    "    time.sleep(2)"
   ]
  },
  {
   "cell_type": "code",
   "execution_count": null,
   "id": "7d390535",
   "metadata": {},
   "outputs": [],
   "source": []
  }
 ],
 "metadata": {
  "kernelspec": {
   "display_name": "Python 3 (ipykernel)",
   "language": "python",
   "name": "python3"
  },
  "language_info": {
   "codemirror_mode": {
    "name": "ipython",
    "version": 3
   },
   "file_extension": ".py",
   "mimetype": "text/x-python",
   "name": "python",
   "nbconvert_exporter": "python",
   "pygments_lexer": "ipython3",
   "version": "3.9.13"
  }
 },
 "nbformat": 4,
 "nbformat_minor": 5
}
